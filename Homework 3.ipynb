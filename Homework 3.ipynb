{
 "cells": [
  {
   "cell_type": "code",
   "execution_count": 32,
   "metadata": {},
   "outputs": [
    {
     "name": "stdout",
     "output_type": "stream",
     "text": [
      "Input:Hannah\n",
      "The input is a palindrome.\n"
     ]
    }
   ],
   "source": [
    "#This code checks whether the input is a palindrome or not.\n",
    "\n",
    "check = input(\"Input:\")\n",
    "\n",
    "if check.lower()==check[::-1].lower():\n",
    "    print(\"The input is a palindrome.\")\n",
    "else:\n",
    "    print(\"The input is not a palindrome.\")\n"
   ]
  },
  {
   "cell_type": "code",
   "execution_count": 3,
   "metadata": {},
   "outputs": [
    {
     "name": "stdout",
     "output_type": "stream",
     "text": [
      "Enter a number:127\n",
      "127 is a prime number\n"
     ]
    }
   ],
   "source": [
    "#This code checks whether the input is a prime number or not.\n",
    "\n",
    "num = int(input(\"Enter a number:\"))\n",
    "\n",
    "if num>1:\n",
    "    for i in range(2,num):\n",
    "        if(num % i)==0:\n",
    "            print(num,\"is not a prime number\")\n",
    "            break\n",
    "    else:\n",
    "        print(num,\"is a prime number\")\n",
    "else:\n",
    "    print(num,\"is not a prime number\")\n"
   ]
  },
  {
   "cell_type": "code",
   "execution_count": 4,
   "metadata": {},
   "outputs": [
    {
     "name": "stdout",
     "output_type": "stream",
     "text": [
      "25164150\n"
     ]
    }
   ],
   "source": [
    "#This code finds the difference between the sum of the squares and the square of the sum of the first one hundred natural numbers.\n",
    "sum = 0\n",
    "sumofsquares = 0\n",
    "\n",
    "for i in range(101):\n",
    "    sum += i\n",
    "    sumofsquares += i**2\n",
    "    \n",
    "getdiff = sum**2 - sumofsquares\n",
    "print(getdiff)"
   ]
  },
  {
   "cell_type": "code",
   "execution_count": 5,
   "metadata": {},
   "outputs": [
    {
     "name": "stdout",
     "output_type": "stream",
     "text": [
      "648\n"
     ]
    }
   ],
   "source": [
    "#This code finds the sum of the digits of 100!\n",
    "\n",
    "def factorialdigitsum():\n",
    "    x = 1\n",
    "    for i in range(1, 101):\n",
    "        x *= i\n",
    "    x = sum(map(int,str(x)))\n",
    "    print(str(x))\n",
    "\n",
    "factorialdigitsum()"
   ]
  }
 ],
 "metadata": {
  "kernelspec": {
   "display_name": "Python 3",
   "language": "python",
   "name": "python3"
  },
  "language_info": {
   "codemirror_mode": {
    "name": "ipython",
    "version": 3
   },
   "file_extension": ".py",
   "mimetype": "text/x-python",
   "name": "python",
   "nbconvert_exporter": "python",
   "pygments_lexer": "ipython3",
   "version": "3.7.4"
  }
 },
 "nbformat": 4,
 "nbformat_minor": 2
}
